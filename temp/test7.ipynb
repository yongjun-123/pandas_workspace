{
 "cells": [
  {
   "cell_type": "code",
   "execution_count": null,
   "metadata": {},
   "outputs": [],
   "source": [
    "# 1. 연도별/대륙별/국가별 그룹 데이터 생성\n",
    "df_groupby = df_gapminder.groupby([‘year’, ‘continent’, ‘country’])\n",
    "# 2. 그룹 데이터 구성컬럼 중, 기대수명(lifeExp) 열의 평균 산출\n",
    "groupby_mean = df_groupby.lifeExp.mean()\n",
    "# 3. 연도별/대륙별/국가별 기대수명 평균 출력\n",
    "print(groupby_mean)\n"
   ]
  },
  {
   "cell_type": "code",
   "execution_count": null,
   "metadata": {},
   "outputs": [],
   "source": [
    "import pandas as pd\n",
    "from collections import OrderedDict\n",
    "\n",
    "# 1. 데이터 순서가 보장되도록, OrderedDict 사용\n",
    "df = pd.DataFrame( OrderedDict([\n",
    "( ‘Name’, [ ‘Yoseph1’, ‘Yoseph2’ ] ),\n",
    "    ( ‘Occupation’, [ ‘Chemist’, ‘Statistician’ ] ),\n",
    "    ( ‘Born’, [ ‘1990-07-21’, ‘1991-07-07’ ] ),\n",
    "    ( ‘Died’, [ ‘2025-07-21’, ‘2070-07-07’ ] ),\n",
    "    ( ‘Age’, [ 37, 61 ] )\n",
    "]) )\n",
    "\n",
    "# 2. 생성한 데이터프레임 출력\n",
    "print(df)\n"
   ]
  },
  {
   "cell_type": "code",
   "execution_count": null,
   "metadata": {},
   "outputs": [],
   "source": [
    "① 데이터 변환 소스코드\n",
    "emp_json = df_emp.to_json()\n",
    "print(emp_json)\n",
    "\n",
    "with open('emp.json', 'w') as f:\n",
    "    f.write(emp_json)\n",
    "    pass\n"
   ]
  },
  {
   "cell_type": "code",
   "execution_count": null,
   "metadata": {},
   "outputs": [],
   "source": [
    "import pandas_oracle.tools as pt\n",
    "\n",
    "query = \"SELECT * FROM emp\"    # SQL Query to be executed\n",
    "\n",
    "# To open Oracle DB connection\n",
    "conn = pt.open_connection('PANDAS\\oracle\\config.yml')   \n",
    "\n",
    "# To load Oracle emp table into a PANDAS DataFrame\n",
    "# query: 수행할 쿼리, conn: Oracle DB connection, 1000: 1초안에 수행완료\n",
    "df_emp = pt.query_to_df(query, conn, 1000) \n",
    "\n",
    "df_emp.info()       # 데이터프레임의 각종 구조정보 출력\n",
    "print(df_emp)       # 데이터프레임의 데이터 출력\n",
    "\n",
    "pt.close_connection(conn)  # To close Oracle DB connection\n"
   ]
  },
  {
   "cell_type": "code",
   "execution_count": null,
   "metadata": {},
   "outputs": [],
   "source": [
    "# 1. 데이터프레임의 행의 개수 구하기\n",
    "num_rows = df_ebola.shape[0]\n",
    "# 2. 데이터프레임의 행의 개수에서, 결측치가 아닌 값의 개수 빼기\n",
    "num_missing = num_rows – df_ebola.count()\n",
    "# 3. 데이터프레임의 결측치 개수 출력\n",
    "print(num_missing)\n"
   ]
  },
  {
   "cell_type": "code",
   "execution_count": null,
   "metadata": {},
   "outputs": [],
   "source": [
    "df_ebola.dropna()"
   ]
  },
  {
   "cell_type": "code",
   "execution_count": null,
   "metadata": {},
   "outputs": [],
   "source": []
  }
 ],
 "metadata": {
  "kernelspec": {
   "display_name": "Python 3",
   "language": "python",
   "name": "python3"
  },
  "language_info": {
   "codemirror_mode": {
    "name": "ipython",
    "version": 3
   },
   "file_extension": ".py",
   "mimetype": "text/x-python",
   "name": "python",
   "nbconvert_exporter": "python",
   "pygments_lexer": "ipython3",
   "version": "3.6.9"
  }
 },
 "nbformat": 4,
 "nbformat_minor": 4
}
